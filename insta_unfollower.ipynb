{
 "cells": [
  {
   "cell_type": "code",
   "execution_count": null,
   "metadata": {},
   "outputs": [],
   "source": [
    "\n",
    "from instabot import Bot\n",
    "from time import sleep\n",
    "from random import randint\n",
    "\n",
    "\n",
    "\n",
    "bot=Bot()\n",
    "\n",
    "bot.login(username=\"yadh7327\",password=\"***********\")\n",
    "\n",
    "non_followers=set(bot.following)-set(bot.followers)\n",
    "\n",
    "for non_follower in non_followers:\n",
    "    try:\n",
    "      bot.unfollow(non_follower)\n",
    "      sleep(randint(6,12))\n",
    "    except Exception as e:\n",
    "      print(e)\n",
    "      sleep(randint(30,300))"
   ]
  }
 ],
 "metadata": {
  "kernelspec": {
   "display_name": "Python 3",
   "language": "python",
   "name": "python3"
  },
  "language_info": {
   "codemirror_mode": {
    "name": "ipython",
    "version": 3
   },
   "file_extension": ".py",
   "mimetype": "text/x-python",
   "name": "python",
   "nbconvert_exporter": "python",
   "pygments_lexer": "ipython3",
   "version": "3.8.3"
  }
 },
 "nbformat": 4,
 "nbformat_minor": 4
}
