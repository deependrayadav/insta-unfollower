{
 "cells": [
  {
   "cell_type": "code",
   "execution_count": 1,
   "metadata": {},
   "outputs": [
    {
     "ename": "SyntaxError",
     "evalue": "unexpected EOF while parsing (<ipython-input-1-319afb061360>, line 21)",
     "output_type": "error",
     "traceback": [
      "\u001b[1;36m  File \u001b[1;32m\"<ipython-input-1-319afb061360>\"\u001b[1;36m, line \u001b[1;32m21\u001b[0m\n\u001b[1;33m    \u001b[0m\n\u001b[1;37m    ^\u001b[0m\n\u001b[1;31mSyntaxError\u001b[0m\u001b[1;31m:\u001b[0m unexpected EOF while parsing\n"
     ]
    }
   ],
   "source": [
    "\n",
    "from instabot import Bot\n",
    "from time import sleep\n",
    "from random import randint\n",
    "\n",
    "\n",
    "\n",
    "bot=Bot()\n",
    "\n",
    "bot.login(username=\"yadh7327\",password=\"Deep@1234\")\n",
    "\n",
    "non_followers=set(bot.following)-set(bot.followers)\n",
    "\n",
    "for non_follower in non_followers:\n",
    "    try:\n",
    "      bot.unfollow(non_follower)\n",
    "      sleep(randint(6,12))\n",
    "    \n",
    "        \n",
    "        \n",
    "    \n",
    "\n"
   ]
  },
  {
   "cell_type": "code",
   "execution_count": 1,
   "metadata": {
    "scrolled": false
   },
   "outputs": [
    {
     "name": "stderr",
     "output_type": "stream",
     "text": [
      "2020-09-02 14:36:11,205 - INFO - Instabot version: 0.117.0 Started\n",
      "2020-09-02 14:36:11,224 - INFO - Recovery from C:\\Users\\deependra yadav/config/yadh7327_uuid_and_cookie.json: COOKIE True - UUIDs True - TIMING, DEVICE and ...\n",
      "- user-agent=Instagram 117.0.0.28.123 Android (28/9.0; 420dpi; 1080x1920; OnePlus; ONEPLUS A3003; OnePlus3; qcom; en_US; 180322800)\n",
      "- phone_id=8087c54c-3f14-4c08-9bb2-236a1a8509c3\n",
      "- uuid=5680a458-dea0-4a87-8085-4bf4e6a66caf\n",
      "- client_session_id=c4d9a2e4-b87e-44c8-ad81-edc7bcc0f2a2\n",
      "- device_id=android-b57fa5b598dc3f05\n",
      "2020-09-02 14:36:11,230 - INFO - LOGIN FLOW! Just logged-in: False\n",
      "2020-09-02 14:36:15,908 - INFO - Logged-in successfully as 'yadh7327'!\n"
     ]
    },
    {
     "name": "stdout",
     "output_type": "stream",
     "text": [
      "\u001b[32m\n",
      "`bot.following` is empty, will download.\u001b[0m\n"
     ]
    },
    {
     "name": "stderr",
     "output_type": "stream",
     "text": [
      "Getting followings of 36887921046: 100%|█████████████████████████████████████████████████| 4/4 [00:00<00:00,  4.91it/s]\n"
     ]
    },
    {
     "name": "stdout",
     "output_type": "stream",
     "text": [
      "\u001b[32m\n",
      "`bot.followers` is empty, will download.\u001b[0m\n"
     ]
    },
    {
     "name": "stderr",
     "output_type": "stream",
     "text": [
      "Getting followers of 36887921046: 100%|██████████████████████████████████████████████████| 3/3 [00:00<00:00,  4.08it/s]\n",
      "2020-09-02 14:36:21,117 - INFO - Going to unfollow `user_id` 7334600522 with username vkfofficial.\n",
      "2020-09-02 14:36:25,611 - INFO - Unfollowed `user_id` 7334600522 with username vkfofficial\n"
     ]
    },
    {
     "name": "stdout",
     "output_type": "stream",
     "text": [
      "\u001b[;1m\u001b[32mAdding '7334600522' to `C:\\Users\\deependra yadav/config/unfollowed.txt`.\u001b[0m\u001b[0m\n"
     ]
    },
    {
     "name": "stderr",
     "output_type": "stream",
     "text": [
      "2020-09-02 14:36:37,886 - INFO - Going to unfollow `user_id` 2094200507 with username virat.kohli.\n",
      "2020-09-02 14:40:16,124 - INFO - Unfollowed `user_id` 2094200507 with username virat.kohli\n"
     ]
    },
    {
     "name": "stdout",
     "output_type": "stream",
     "text": [
      "\u001b[;1m\u001b[32mAdding '2094200507' to `C:\\Users\\deependra yadav/config/unfollowed.txt`.\u001b[0m\u001b[0m\n",
      "\u001b[;1m\u001b[33m'2094200507' already in `C:\\Users\\deependra yadav/config/unfollowed.txt`.\u001b[0m\u001b[0m\n"
     ]
    },
    {
     "name": "stderr",
     "output_type": "stream",
     "text": [
      "2020-09-02 14:40:26,073 - INFO - Going to unfollow `user_id` 1962023419 with username sachintendulkar.\n",
      "2020-09-02 14:44:37,349 - INFO - Unfollowed `user_id` 1962023419 with username sachintendulkar\n"
     ]
    },
    {
     "name": "stdout",
     "output_type": "stream",
     "text": [
      "\u001b[;1m\u001b[32mAdding '1962023419' to `C:\\Users\\deependra yadav/config/unfollowed.txt`.\u001b[0m\u001b[0m\n",
      "\u001b[;1m\u001b[33m'1962023419' already in `C:\\Users\\deependra yadav/config/unfollowed.txt`.\u001b[0m\u001b[0m\n"
     ]
    }
   ],
   "source": [
    "\n",
    "from instabot import Bot\n",
    "from time import sleep\n",
    "from random import randint\n",
    "\n",
    "\n",
    "\n",
    "bot=Bot()\n",
    "\n",
    "bot.login(username=\"yadh7327\",password=\"Deep@1234\")\n",
    "\n",
    "non_followers=set(bot.following)-set(bot.followers)\n",
    "\n",
    "for non_follower in non_followers:\n",
    "    try:\n",
    "      bot.unfollow(non_follower)\n",
    "      sleep(randint(6,12))\n",
    "    except Exception as e:\n",
    "      print(e)\n",
    "      sleep(randint(30,300))\n",
    "    "
   ]
  },
  {
   "cell_type": "code",
   "execution_count": null,
   "metadata": {},
   "outputs": [],
   "source": []
  },
  {
   "cell_type": "code",
   "execution_count": null,
   "metadata": {},
   "outputs": [],
   "source": []
  },
  {
   "cell_type": "code",
   "execution_count": null,
   "metadata": {},
   "outputs": [],
   "source": [
    "\n",
    "\n",
    "\n",
    "\n",
    "\n",
    "\n",
    "\n",
    "\n",
    "\n",
    "\n",
    "\n",
    "\n",
    "\n",
    "\n",
    "\n",
    "\n",
    "\n"
   ]
  },
  {
   "cell_type": "code",
   "execution_count": null,
   "metadata": {},
   "outputs": [
    {
     "name": "stderr",
     "output_type": "stream",
     "text": [
      "2020-09-02 15:12:25,992 - INFO - Instabot version: 0.117.0 Started\n",
      "2020-09-02 15:12:26,020 - INFO - Recovery from C:\\Users\\deependra yadav/config/yadh7327_uuid_and_cookie.json: COOKIE True - UUIDs True - TIMING, DEVICE and ...\n",
      "- user-agent=Instagram 117.0.0.28.123 Android (28/9.0; 420dpi; 1080x1920; OnePlus; ONEPLUS A3003; OnePlus3; qcom; en_US; 180322800)\n",
      "- phone_id=8087c54c-3f14-4c08-9bb2-236a1a8509c3\n",
      "- uuid=5680a458-dea0-4a87-8085-4bf4e6a66caf\n",
      "- client_session_id=c4d9a2e4-b87e-44c8-ad81-edc7bcc0f2a2\n",
      "- device_id=android-b57fa5b598dc3f05\n",
      "2020-09-02 15:12:26,023 - INFO - LOGIN FLOW! Just logged-in: False\n",
      "2020-09-02 15:12:36,333 - INFO - Logged-in successfully as 'yadh7327'!\n"
     ]
    },
    {
     "name": "stdout",
     "output_type": "stream",
     "text": [
      "\u001b[32m\n",
      "`bot.following` is empty, will download.\u001b[0m\n"
     ]
    },
    {
     "name": "stderr",
     "output_type": "stream",
     "text": [
      "Getting followings of 36887921046: 100%|█████████████████████████████████████████████████| 7/7 [00:00<00:00,  8.58it/s]\n"
     ]
    },
    {
     "name": "stdout",
     "output_type": "stream",
     "text": [
      "\u001b[32m\n",
      "`bot.followers` is empty, will download.\u001b[0m\n"
     ]
    },
    {
     "name": "stderr",
     "output_type": "stream",
     "text": [
      "Getting followers of 36887921046: 100%|██████████████████████████████████████████████████| 1/1 [00:01<00:00,  1.11s/it]\n",
      "2020-09-02 15:12:41,271 - INFO - Going to unfollow `user_id` 7037320966 with username eternal.knowledge.\n",
      "2020-09-02 15:12:46,268 - INFO - Unfollowed `user_id` 7037320966 with username eternal.knowledge\n"
     ]
    },
    {
     "name": "stdout",
     "output_type": "stream",
     "text": [
      "\u001b[;1m\u001b[32mAdding '7037320966' to `C:\\Users\\deependra yadav/config/unfollowed.txt`.\u001b[0m\u001b[0m\n"
     ]
    },
    {
     "name": "stderr",
     "output_type": "stream",
     "text": [
      "2020-09-02 15:12:54,331 - INFO - Going to unfollow `user_id` 35812995486 with username spiritualdree.\n"
     ]
    }
   ],
   "source": [
    "\n",
    "from instabot import Bot\n",
    "from time import sleep\n",
    "from random import randint\n",
    "\n",
    "\n",
    "\n",
    "bot=Bot()\n",
    "\n",
    "bot.login(username=\"yadh7327\",password=\"Deep@1234\")\n",
    "\n",
    "non_followers=set(bot.following)-set(bot.followers)\n",
    "\n",
    "for non_follower in non_followers:\n",
    "    try:\n",
    "      bot.unfollow(non_follower)\n",
    "      sleep(randint(6,12))\n",
    "    except Exception as e:\n",
    "      print(e)\n",
    "      sleep(randint(30,50))\n",
    "    "
   ]
  },
  {
   "cell_type": "code",
   "execution_count": null,
   "metadata": {},
   "outputs": [],
   "source": [
    "\n",
    "\n",
    "\n",
    "\n",
    "\n",
    "\n",
    "\n",
    "\n",
    "\n",
    "\n",
    "\n",
    "\n",
    "\n"
   ]
  },
  {
   "cell_type": "code",
   "execution_count": null,
   "metadata": {},
   "outputs": [],
   "source": []
  },
  {
   "cell_type": "code",
   "execution_count": 1,
   "metadata": {},
   "outputs": [
    {
     "name": "stderr",
     "output_type": "stream",
     "text": [
      "2020-09-02 15:25:35,087 - INFO - Instabot version: 0.117.0 Started\n",
      "2020-09-02 15:25:35,109 - INFO - Recovery from C:\\Users\\deependra yadav/config/yadh7327_uuid_and_cookie.json: COOKIE True - UUIDs True - TIMING, DEVICE and ...\n",
      "- user-agent=Instagram 117.0.0.28.123 Android (28/9.0; 420dpi; 1080x1920; OnePlus; ONEPLUS A3003; OnePlus3; qcom; en_US; 180322800)\n",
      "- phone_id=8087c54c-3f14-4c08-9bb2-236a1a8509c3\n",
      "- uuid=5680a458-dea0-4a87-8085-4bf4e6a66caf\n",
      "- client_session_id=9f701742-20cf-49fa-8b7b-0118f375d7bb\n",
      "- device_id=android-b57fa5b598dc3f05\n",
      "2020-09-02 15:25:35,117 - INFO - LOGIN FLOW! Just logged-in: False\n",
      "2020-09-02 15:25:38,132 - ERROR - Request returns 403 error!\n",
      "2020-09-02 15:25:38,851 - ERROR - Request returns 403 error!\n",
      "2020-09-02 15:25:38,859 - INFO - Login flow failed, the cookie is broken. Relogin again.\n",
      "2020-09-02 15:25:38,891 - INFO - Recovery from C:\\Users\\deependra yadav/config/yadh7327_uuid_and_cookie.json: COOKIE True - UUIDs True - TIMING, DEVICE and ...\n",
      "- user-agent=Instagram 117.0.0.28.123 Android (28/9.0; 420dpi; 1080x1920; OnePlus; ONEPLUS A3003; OnePlus3; qcom; en_US; 180322800)\n",
      "- phone_id=8087c54c-3f14-4c08-9bb2-236a1a8509c3\n",
      "- uuid=5680a458-dea0-4a87-8085-4bf4e6a66caf\n",
      "- client_session_id=9f701742-20cf-49fa-8b7b-0118f375d7bb\n",
      "- device_id=android-b57fa5b598dc3f05\n",
      "2020-09-02 15:25:38,896 - INFO - Not yet logged in starting: PRE-LOGIN FLOW!\n",
      "2020-09-02 15:25:48,136 - ERROR - Request returns 400 error!\n",
      "2020-09-02 15:25:48,137 - INFO - Instagram's error message: The password you entered is incorrect. Please try again.\n",
      "2020-09-02 15:25:48,141 - INFO - Error type: bad_password\n",
      "2020-09-02 15:25:48,145 - ERROR - Failed to login go to instagram and change your password\n",
      "2020-09-02 15:25:48,145 - INFO - Username or password is incorrect.\n"
     ]
    },
    {
     "ename": "SystemExit",
     "evalue": "",
     "output_type": "error",
     "traceback": [
      "An exception has occurred, use %tb to see the full traceback.\n",
      "\u001b[1;31mSystemExit\u001b[0m\n"
     ]
    },
    {
     "name": "stderr",
     "output_type": "stream",
     "text": [
      "c:\\users\\deependra yadav\\appdata\\local\\programs\\python\\python36\\lib\\site-packages\\IPython\\core\\interactiveshell.py:3351: UserWarning: To exit: use 'exit', 'quit', or Ctrl-D.\n",
      "  warn(\"To exit: use 'exit', 'quit', or Ctrl-D.\", stacklevel=1)\n"
     ]
    }
   ],
   "source": [
    "\n",
    "from instabot import Bot\n",
    "from time import sleep\n",
    "from random import randint\n",
    "\n",
    "\n",
    "\n",
    "bot=Bot()\n",
    "\n",
    "bot.login(username=\"yadh7327\",password=\"Deep@1234\")\n",
    "\n",
    "non_followers=set(bot.following)-set(bot.followers)\n",
    "\n",
    "for non_follower in non_followers:\n",
    "    try:\n",
    "      bot.unfollow(non_follower)\n",
    "      sleep(randint(6,12))\n",
    "    except Exception as e:\n",
    "      print(e)\n",
    "      sleep(randint(30,50))"
   ]
  },
  {
   "cell_type": "code",
   "execution_count": null,
   "metadata": {},
   "outputs": [],
   "source": []
  },
  {
   "cell_type": "code",
   "execution_count": null,
   "metadata": {},
   "outputs": [],
   "source": []
  },
  {
   "cell_type": "code",
   "execution_count": null,
   "metadata": {},
   "outputs": [],
   "source": []
  },
  {
   "cell_type": "code",
   "execution_count": null,
   "metadata": {
    "scrolled": true
   },
   "outputs": [
    {
     "name": "stderr",
     "output_type": "stream",
     "text": [
      "2020-09-02 15:31:11,975 - INFO - Instabot version: 0.117.0 Started\n",
      "2020-09-02 15:31:11,994 - INFO - Recovery from C:\\Users\\deependra yadav/config/yadh7327_uuid_and_cookie.json: COOKIE True - UUIDs True - TIMING, DEVICE and ...\n",
      "- user-agent=Instagram 117.0.0.28.123 Android (28/9.0; 420dpi; 1080x1920; OnePlus; ONEPLUS A3003; OnePlus3; qcom; en_US; 180322800)\n",
      "- phone_id=8087c54c-3f14-4c08-9bb2-236a1a8509c3\n",
      "- uuid=5680a458-dea0-4a87-8085-4bf4e6a66caf\n",
      "- client_session_id=9f701742-20cf-49fa-8b7b-0118f375d7bb\n",
      "- device_id=android-b57fa5b598dc3f05\n",
      "2020-09-02 15:31:12,000 - INFO - LOGIN FLOW! Just logged-in: False\n",
      "2020-09-02 15:31:17,282 - INFO - Logged-in successfully as 'yadh7327'!\n"
     ]
    },
    {
     "name": "stdout",
     "output_type": "stream",
     "text": [
      "\u001b[32m\n",
      "`bot.following` is empty, will download.\u001b[0m\n"
     ]
    },
    {
     "name": "stderr",
     "output_type": "stream",
     "text": [
      "Getting followings of 36887921046: 100%|█████████████████████████████████████████████████| 5/5 [00:01<00:00,  3.80it/s]\n"
     ]
    },
    {
     "name": "stdout",
     "output_type": "stream",
     "text": [
      "\u001b[32m\n",
      "`bot.followers` is empty, will download.\u001b[0m\n"
     ]
    },
    {
     "name": "stderr",
     "output_type": "stream",
     "text": [
      "Getting followers of 36887921046: 100%|██████████████████████████████████████████████████| 1/1 [00:00<00:00,  1.15it/s]\n",
      "2020-09-02 15:31:23,660 - INFO - Going to unfollow `user_id` 35812995486 with username spiritualdree.\n",
      "2020-09-02 15:31:26,912 - INFO - Unfollowed `user_id` 35812995486 with username spiritualdree\n"
     ]
    },
    {
     "name": "stdout",
     "output_type": "stream",
     "text": [
      "\u001b[;1m\u001b[32mAdding '35812995486' to `C:\\Users\\deependra yadav/config/unfollowed.txt`.\u001b[0m\u001b[0m\n",
      "\u001b[;1m\u001b[33m'35812995486' already in `C:\\Users\\deependra yadav/config/unfollowed.txt`.\u001b[0m\u001b[0m\n"
     ]
    },
    {
     "name": "stderr",
     "output_type": "stream",
     "text": [
      "2020-09-02 15:31:39,009 - INFO - Going to unfollow `user_id` 11894726823 with username chakras_healing.\n"
     ]
    }
   ],
   "source": [
    "\n",
    "from instabot import Bot\n",
    "from time import sleep\n",
    "from random import randint\n",
    "\n",
    "\n",
    "\n",
    "bot=Bot()\n",
    "\n",
    "bot.login(username=\"yadh7327\",password=\"pass#789\")\n",
    "\n",
    "non_followers=set(bot.following)-set(bot.followers)\n",
    "\n",
    "for non_follower in non_followers:\n",
    "    try:\n",
    "      bot.unfollow(non_follower)\n",
    "      sleep(randint(6,12))\n",
    "    except Exception as e:\n",
    "      print(e)\n",
    "      sleep(randint(30,50))"
   ]
  },
  {
   "cell_type": "code",
   "execution_count": null,
   "metadata": {},
   "outputs": [],
   "source": []
  },
  {
   "cell_type": "code",
   "execution_count": null,
   "metadata": {},
   "outputs": [],
   "source": []
  },
  {
   "cell_type": "code",
   "execution_count": null,
   "metadata": {},
   "outputs": [],
   "source": []
  },
  {
   "cell_type": "code",
   "execution_count": null,
   "metadata": {},
   "outputs": [],
   "source": []
  },
  {
   "cell_type": "code",
   "execution_count": null,
   "metadata": {},
   "outputs": [],
   "source": []
  },
  {
   "cell_type": "code",
   "execution_count": null,
   "metadata": {},
   "outputs": [],
   "source": []
  },
  {
   "cell_type": "code",
   "execution_count": null,
   "metadata": {},
   "outputs": [],
   "source": []
  },
  {
   "cell_type": "code",
   "execution_count": null,
   "metadata": {},
   "outputs": [],
   "source": []
  },
  {
   "cell_type": "code",
   "execution_count": null,
   "metadata": {},
   "outputs": [],
   "source": []
  },
  {
   "cell_type": "code",
   "execution_count": null,
   "metadata": {},
   "outputs": [],
   "source": []
  },
  {
   "cell_type": "code",
   "execution_count": null,
   "metadata": {},
   "outputs": [
    {
     "name": "stderr",
     "output_type": "stream",
     "text": [
      "2020-09-02 15:36:51,420 - INFO - Instabot version: 0.117.0 Started\n",
      "2020-09-02 15:36:51,434 - INFO - Recovery from C:\\Users\\deependra yadav/config/yadh7327_uuid_and_cookie.json: COOKIE True - UUIDs True - TIMING, DEVICE and ...\n",
      "- user-agent=Instagram 117.0.0.28.123 Android (28/9.0; 420dpi; 1080x1920; OnePlus; ONEPLUS A3003; OnePlus3; qcom; en_US; 180322800)\n",
      "- phone_id=8087c54c-3f14-4c08-9bb2-236a1a8509c3\n",
      "- uuid=5680a458-dea0-4a87-8085-4bf4e6a66caf\n",
      "- client_session_id=9f701742-20cf-49fa-8b7b-0118f375d7bb\n",
      "- device_id=android-b57fa5b598dc3f05\n",
      "2020-09-02 15:36:51,440 - INFO - LOGIN FLOW! Just logged-in: False\n",
      "2020-09-02 15:36:54,584 - INFO - Logged-in successfully as 'yadh7327'!\n"
     ]
    },
    {
     "name": "stdout",
     "output_type": "stream",
     "text": [
      "\u001b[32m\n",
      "`bot.following` is empty, will download.\u001b[0m\n"
     ]
    },
    {
     "name": "stderr",
     "output_type": "stream",
     "text": [
      "Getting followings of 36887921046: 100%|█████████████████████████████████████████████████| 5/5 [00:00<00:00,  6.46it/s]\n"
     ]
    },
    {
     "name": "stdout",
     "output_type": "stream",
     "text": [
      "\u001b[32m\n",
      "`bot.followers` is empty, will download.\u001b[0m\n"
     ]
    },
    {
     "name": "stderr",
     "output_type": "stream",
     "text": [
      "Getting followers of 36887921046: 100%|██████████████████████████████████████████████████| 1/1 [00:00<00:00,  1.32it/s]\n",
      "2020-09-02 15:36:59,317 - INFO - Going to unfollow `user_id` 14076614787 with username spiritual_goddess.\n",
      "2020-09-02 15:37:02,779 - INFO - Unfollowed `user_id` 14076614787 with username spiritual_goddess\n"
     ]
    },
    {
     "name": "stdout",
     "output_type": "stream",
     "text": [
      "\u001b[;1m\u001b[32mAdding '14076614787' to `C:\\Users\\deependra yadav/config/unfollowed.txt`.\u001b[0m\u001b[0m\n"
     ]
    },
    {
     "name": "stderr",
     "output_type": "stream",
     "text": [
      "2020-09-02 15:37:16,713 - INFO - Going to unfollow `user_id` 12376368346 with username spiritualleague.\n"
     ]
    }
   ],
   "source": [
    "\n",
    "from instabot import Bot\n",
    "from time import sleep\n",
    "from random import randint\n",
    "\n",
    "\n",
    "\n",
    "bot=Bot()\n",
    "\n",
    "bot.login(username=\"yadh7327\",password=\"pass#789\")\n",
    "\n",
    "non_followers=set(bot.following)-set(bot.followers)\n",
    "\n",
    "for non_follower in non_followers:\n",
    "    try:\n",
    "      bot.unfollow(non_follower)\n",
    "      sleep(randint(6,12))\n",
    "    except Exception as e:\n",
    "      print(e)\n",
    "      sleep(randint(30,50))"
   ]
  },
  {
   "cell_type": "code",
   "execution_count": null,
   "metadata": {},
   "outputs": [],
   "source": []
  },
  {
   "cell_type": "code",
   "execution_count": null,
   "metadata": {},
   "outputs": [],
   "source": []
  },
  {
   "cell_type": "code",
   "execution_count": null,
   "metadata": {},
   "outputs": [],
   "source": []
  },
  {
   "cell_type": "code",
   "execution_count": null,
   "metadata": {},
   "outputs": [],
   "source": []
  },
  {
   "cell_type": "code",
   "execution_count": null,
   "metadata": {},
   "outputs": [],
   "source": []
  },
  {
   "cell_type": "code",
   "execution_count": null,
   "metadata": {},
   "outputs": [],
   "source": []
  },
  {
   "cell_type": "code",
   "execution_count": null,
   "metadata": {},
   "outputs": [],
   "source": []
  },
  {
   "cell_type": "code",
   "execution_count": null,
   "metadata": {},
   "outputs": [],
   "source": []
  },
  {
   "cell_type": "code",
   "execution_count": null,
   "metadata": {},
   "outputs": [],
   "source": []
  },
  {
   "cell_type": "code",
   "execution_count": null,
   "metadata": {},
   "outputs": [],
   "source": []
  },
  {
   "cell_type": "code",
   "execution_count": null,
   "metadata": {},
   "outputs": [],
   "source": []
  },
  {
   "cell_type": "code",
   "execution_count": null,
   "metadata": {},
   "outputs": [
    {
     "name": "stderr",
     "output_type": "stream",
     "text": [
      "2020-09-02 15:48:14,626 - INFO - Instabot version: 0.117.0 Started\n",
      "2020-09-02 15:48:14,644 - INFO - Recovery from C:\\Users\\deependra yadav/config/yadh7327_uuid_and_cookie.json: COOKIE True - UUIDs True - TIMING, DEVICE and ...\n",
      "- user-agent=Instagram 117.0.0.28.123 Android (28/9.0; 420dpi; 1080x1920; OnePlus; ONEPLUS A3003; OnePlus3; qcom; en_US; 180322800)\n",
      "- phone_id=8087c54c-3f14-4c08-9bb2-236a1a8509c3\n",
      "- uuid=5680a458-dea0-4a87-8085-4bf4e6a66caf\n",
      "- client_session_id=9f701742-20cf-49fa-8b7b-0118f375d7bb\n",
      "- device_id=android-b57fa5b598dc3f05\n",
      "2020-09-02 15:48:14,648 - INFO - LOGIN FLOW! Just logged-in: False\n",
      "2020-09-02 15:48:19,654 - INFO - Logged-in successfully as 'yadh7327'!\n"
     ]
    },
    {
     "name": "stdout",
     "output_type": "stream",
     "text": [
      "\u001b[32m\n",
      "`bot.following` is empty, will download.\u001b[0m\n"
     ]
    },
    {
     "name": "stderr",
     "output_type": "stream",
     "text": [
      "Getting followings of 36887921046: 100%|█████████████████████████████████████████████████| 2/2 [00:01<00:00,  1.03it/s]\n"
     ]
    },
    {
     "name": "stdout",
     "output_type": "stream",
     "text": [
      "\u001b[32m\n",
      "`bot.followers` is empty, will download.\u001b[0m\n"
     ]
    },
    {
     "name": "stderr",
     "output_type": "stream",
     "text": [
      "Getting followers of 36887921046: 100%|██████████████████████████████████████████████████| 1/1 [00:00<00:00,  1.29it/s]\n",
      "2020-09-02 15:48:25,811 - INFO - Going to unfollow `user_id` 12376368346 with username spiritualleague.\n",
      "2020-09-02 15:48:28,448 - INFO - Unfollowed `user_id` 12376368346 with username spiritualleague\n"
     ]
    },
    {
     "name": "stdout",
     "output_type": "stream",
     "text": [
      "\u001b[;1m\u001b[32mAdding '12376368346' to `C:\\Users\\deependra yadav/config/unfollowed.txt`.\u001b[0m\u001b[0m\n"
     ]
    }
   ],
   "source": [
    "\n",
    "from instabot import Bot\n",
    "from time import sleep\n",
    "from random import randint\n",
    "\n",
    "\n",
    "\n",
    "bot=Bot()\n",
    "\n",
    "bot.login(username=\"yadh7327\",password=\"pass#789\")\n",
    "\n",
    "non_followers=set(bot.following)-set(bot.followers)\n",
    "\n",
    "for non_follower in non_followers:\n",
    "    try:\n",
    "      bot.unfollow(non_follower)\n",
    "      sleep(randint(6,12))\n",
    "    except Exception as e:\n",
    "      print(e)\n",
    "      sleep(randint(30,50))"
   ]
  },
  {
   "cell_type": "code",
   "execution_count": null,
   "metadata": {},
   "outputs": [],
   "source": []
  },
  {
   "cell_type": "code",
   "execution_count": null,
   "metadata": {},
   "outputs": [],
   "source": []
  },
  {
   "cell_type": "code",
   "execution_count": null,
   "metadata": {},
   "outputs": [],
   "source": []
  },
  {
   "cell_type": "code",
   "execution_count": null,
   "metadata": {},
   "outputs": [],
   "source": []
  },
  {
   "cell_type": "code",
   "execution_count": null,
   "metadata": {},
   "outputs": [],
   "source": []
  },
  {
   "cell_type": "code",
   "execution_count": null,
   "metadata": {},
   "outputs": [],
   "source": []
  },
  {
   "cell_type": "code",
   "execution_count": null,
   "metadata": {},
   "outputs": [],
   "source": []
  },
  {
   "cell_type": "code",
   "execution_count": null,
   "metadata": {},
   "outputs": [],
   "source": []
  },
  {
   "cell_type": "code",
   "execution_count": null,
   "metadata": {},
   "outputs": [],
   "source": []
  },
  {
   "cell_type": "code",
   "execution_count": null,
   "metadata": {},
   "outputs": [],
   "source": []
  },
  {
   "cell_type": "code",
   "execution_count": null,
   "metadata": {},
   "outputs": [],
   "source": []
  },
  {
   "cell_type": "code",
   "execution_count": null,
   "metadata": {},
   "outputs": [
    {
     "name": "stderr",
     "output_type": "stream",
     "text": [
      "2020-09-02 15:54:52,584 - INFO - Instabot version: 0.117.0 Started\n",
      "2020-09-02 15:54:52,602 - INFO - Recovery from C:\\Users\\deependra yadav/config/yadh7327_uuid_and_cookie.json: COOKIE True - UUIDs True - TIMING, DEVICE and ...\n",
      "- user-agent=Instagram 117.0.0.28.123 Android (28/9.0; 420dpi; 1080x1920; OnePlus; ONEPLUS A3003; OnePlus3; qcom; en_US; 180322800)\n",
      "- phone_id=8087c54c-3f14-4c08-9bb2-236a1a8509c3\n",
      "- uuid=5680a458-dea0-4a87-8085-4bf4e6a66caf\n",
      "- client_session_id=9f701742-20cf-49fa-8b7b-0118f375d7bb\n",
      "- device_id=android-b57fa5b598dc3f05\n",
      "2020-09-02 15:54:52,605 - INFO - LOGIN FLOW! Just logged-in: False\n",
      "2020-09-02 15:54:55,903 - INFO - Logged-in successfully as 'yadh7327'!\n"
     ]
    },
    {
     "name": "stdout",
     "output_type": "stream",
     "text": [
      "\u001b[32m\n",
      "`bot.following` is empty, will download.\u001b[0m\n"
     ]
    },
    {
     "name": "stderr",
     "output_type": "stream",
     "text": [
      "Getting followings of 36887921046: 100%|█████████████████████████████████████████████████| 6/6 [00:00<00:00,  6.56it/s]"
     ]
    }
   ],
   "source": [
    "from instabot import Bot\n",
    "from time import sleep\n",
    "from random import randint\n",
    "\n",
    "\n",
    "\n",
    "bot=Bot()\n",
    "\n",
    "bot.login(username=\"yadh7327\",password=\"pass#789\")\n",
    "\n",
    "non_followers=set(bot.following)-set(bot.followers)\n",
    "\n",
    "for non_follower in non_followers:\n",
    "    try:\n",
    "      bot.unfollow(non_follower)\n",
    "      sleep(randint(6,12))\n",
    "    except Exception as e:\n",
    "      print(e)\n",
    "      sleep(randint(30,50))"
   ]
  },
  {
   "cell_type": "code",
   "execution_count": null,
   "metadata": {},
   "outputs": [],
   "source": []
  },
  {
   "cell_type": "code",
   "execution_count": null,
   "metadata": {},
   "outputs": [],
   "source": []
  },
  {
   "cell_type": "code",
   "execution_count": null,
   "metadata": {},
   "outputs": [],
   "source": []
  },
  {
   "cell_type": "code",
   "execution_count": null,
   "metadata": {},
   "outputs": [],
   "source": []
  },
  {
   "cell_type": "code",
   "execution_count": null,
   "metadata": {},
   "outputs": [],
   "source": []
  },
  {
   "cell_type": "code",
   "execution_count": null,
   "metadata": {},
   "outputs": [],
   "source": []
  },
  {
   "cell_type": "code",
   "execution_count": null,
   "metadata": {},
   "outputs": [],
   "source": []
  },
  {
   "cell_type": "code",
   "execution_count": null,
   "metadata": {},
   "outputs": [
    {
     "name": "stderr",
     "output_type": "stream",
     "text": [
      "2020-09-02 16:08:34,013 - INFO - Instabot version: 0.117.0 Started\n",
      "2020-09-02 16:08:34,030 - INFO - Recovery from C:\\Users\\deependra yadav/config/yadh7327_uuid_and_cookie.json: COOKIE True - UUIDs True - TIMING, DEVICE and ...\n",
      "- user-agent=Instagram 117.0.0.28.123 Android (28/9.0; 420dpi; 1080x1920; OnePlus; ONEPLUS A3003; OnePlus3; qcom; en_US; 180322800)\n",
      "- phone_id=8087c54c-3f14-4c08-9bb2-236a1a8509c3\n",
      "- uuid=5680a458-dea0-4a87-8085-4bf4e6a66caf\n",
      "- client_session_id=ed59fe48-483a-4a0a-a425-4421c8ea63ab\n",
      "- device_id=android-b57fa5b598dc3f05\n",
      "2020-09-02 16:08:34,036 - INFO - LOGIN FLOW! Just logged-in: False\n",
      "2020-09-02 16:08:37,299 - INFO - Logged-in successfully as 'yadh7327'!\n"
     ]
    },
    {
     "name": "stdout",
     "output_type": "stream",
     "text": [
      "\u001b[32m\n",
      "`bot.following` is empty, will download.\u001b[0m\n"
     ]
    }
   ],
   "source": [
    "from instabot import Bot\n",
    "from time import sleep\n",
    "from random import randint\n",
    "\n",
    "\n",
    "\n",
    "bot=Bot()\n",
    "\n",
    "bot.login(username=\"yadh7327\",password=\"pass#789\")\n",
    "\n",
    "non_followers=set(bot.following)-set(bot.followers)\n",
    "\n",
    "for non_follower in non_followers:\n",
    "    try:\n",
    "      bot.unfollow(non_follower)\n",
    "      sleep(randint(6,12))\n",
    "    except Exception as e:\n",
    "      print(e)\n",
    "      sleep(randint(30,50))"
   ]
  },
  {
   "cell_type": "code",
   "execution_count": null,
   "metadata": {},
   "outputs": [],
   "source": []
  },
  {
   "cell_type": "code",
   "execution_count": null,
   "metadata": {},
   "outputs": [],
   "source": []
  },
  {
   "cell_type": "code",
   "execution_count": null,
   "metadata": {},
   "outputs": [],
   "source": []
  },
  {
   "cell_type": "code",
   "execution_count": null,
   "metadata": {},
   "outputs": [],
   "source": []
  },
  {
   "cell_type": "code",
   "execution_count": null,
   "metadata": {},
   "outputs": [],
   "source": []
  },
  {
   "cell_type": "code",
   "execution_count": null,
   "metadata": {},
   "outputs": [],
   "source": []
  },
  {
   "cell_type": "code",
   "execution_count": null,
   "metadata": {},
   "outputs": [],
   "source": []
  },
  {
   "cell_type": "code",
   "execution_count": null,
   "metadata": {},
   "outputs": [],
   "source": []
  },
  {
   "cell_type": "code",
   "execution_count": null,
   "metadata": {},
   "outputs": [],
   "source": []
  },
  {
   "cell_type": "code",
   "execution_count": null,
   "metadata": {},
   "outputs": [],
   "source": []
  },
  {
   "cell_type": "code",
   "execution_count": null,
   "metadata": {},
   "outputs": [
    {
     "name": "stderr",
     "output_type": "stream",
     "text": [
      "2020-09-02 18:26:41,158 - INFO - Instabot version: 0.117.0 Started\n",
      "2020-09-02 18:26:41,177 - INFO - Recovery from C:\\Users\\deependra yadav/config/yadh7327_uuid_and_cookie.json: COOKIE True - UUIDs True - TIMING, DEVICE and ...\n",
      "- user-agent=Instagram 117.0.0.28.123 Android (28/9.0; 420dpi; 1080x1920; OnePlus; ONEPLUS A3003; OnePlus3; qcom; en_US; 180322800)\n",
      "- phone_id=8087c54c-3f14-4c08-9bb2-236a1a8509c3\n",
      "- uuid=5680a458-dea0-4a87-8085-4bf4e6a66caf\n",
      "- client_session_id=d9b11b1c-bce1-4692-968f-9ac48bafe420\n",
      "- device_id=android-b57fa5b598dc3f05\n",
      "2020-09-02 18:26:41,181 - INFO - LOGIN FLOW! Just logged-in: False\n",
      "2020-09-02 18:26:52,826 - INFO - Logged-in successfully as 'yadh7327'!\n"
     ]
    },
    {
     "name": "stdout",
     "output_type": "stream",
     "text": [
      "\u001b[32m\n",
      "`bot.following` is empty, will download.\u001b[0m\n"
     ]
    },
    {
     "name": "stderr",
     "output_type": "stream",
     "text": [
      "Getting followings of 36887921046: 100%|█████████████████████████████████████████████████| 9/9 [00:00<00:00,  9.83it/s]\n"
     ]
    },
    {
     "name": "stdout",
     "output_type": "stream",
     "text": [
      "\u001b[32m\n",
      "`bot.followers` is empty, will download.\u001b[0m\n"
     ]
    },
    {
     "name": "stderr",
     "output_type": "stream",
     "text": [
      "Getting followers of 36887921046: 100%|██████████████████████████████████████████████████| 1/1 [00:00<00:00,  1.18it/s]\n",
      "2020-09-02 18:26:57,611 - INFO - Going to unfollow `user_id` 11894726823 with username chakras_healing.\n",
      "2020-09-02 18:26:59,467 - ERROR - Request returns 400 error!\n",
      "2020-09-02 18:26:59,472 - ERROR - ATTENTION!: `feedback_required`b'We restrict certain activity to protect our community. Tell us if you think we made a mistake.'\n",
      "2020-09-02 18:26:59,480 - ERROR - `Unfollow` action has been BLOCKED...!!!\n",
      "2020-09-02 18:26:59,484 - INFO - `Unfollow` action is going to sleep                         for 695 seconds.\n"
     ]
    }
   ],
   "source": [
    "from instabot import Bot\n",
    "from time import sleep\n",
    "from random import randint\n",
    "\n",
    "\n",
    "\n",
    "bot=Bot()\n",
    "\n",
    "bot.login(username=\"yadh7327\",password=\"pass#789\")\n",
    "\n",
    "non_followers=set(bot.following)-set(bot.followers)\n",
    "\n",
    "for non_follower in non_followers:\n",
    "    try:\n",
    "      bot.unfollow(non_follower)\n",
    "      sleep(randint(6,12))\n",
    "    except Exception as e:\n",
    "      print(e)\n",
    "      sleep(randint(30,50))"
   ]
  },
  {
   "cell_type": "code",
   "execution_count": null,
   "metadata": {},
   "outputs": [],
   "source": []
  },
  {
   "cell_type": "code",
   "execution_count": null,
   "metadata": {},
   "outputs": [],
   "source": []
  },
  {
   "cell_type": "code",
   "execution_count": null,
   "metadata": {},
   "outputs": [],
   "source": []
  },
  {
   "cell_type": "code",
   "execution_count": null,
   "metadata": {},
   "outputs": [],
   "source": []
  },
  {
   "cell_type": "code",
   "execution_count": null,
   "metadata": {},
   "outputs": [],
   "source": []
  },
  {
   "cell_type": "code",
   "execution_count": null,
   "metadata": {},
   "outputs": [],
   "source": []
  },
  {
   "cell_type": "code",
   "execution_count": null,
   "metadata": {},
   "outputs": [],
   "source": []
  },
  {
   "cell_type": "code",
   "execution_count": null,
   "metadata": {},
   "outputs": [],
   "source": []
  },
  {
   "cell_type": "code",
   "execution_count": null,
   "metadata": {},
   "outputs": [],
   "source": []
  },
  {
   "cell_type": "code",
   "execution_count": null,
   "metadata": {},
   "outputs": [],
   "source": []
  },
  {
   "cell_type": "code",
   "execution_count": null,
   "metadata": {},
   "outputs": [],
   "source": []
  },
  {
   "cell_type": "code",
   "execution_count": null,
   "metadata": {},
   "outputs": [],
   "source": []
  },
  {
   "cell_type": "code",
   "execution_count": null,
   "metadata": {},
   "outputs": [],
   "source": []
  },
  {
   "cell_type": "code",
   "execution_count": null,
   "metadata": {},
   "outputs": [
    {
     "name": "stderr",
     "output_type": "stream",
     "text": [
      "2020-09-02 16:25:02,772 - INFO - Instabot version: 0.117.0 Started\n",
      "2020-09-02 16:25:02,798 - INFO - Recovery from C:\\Users\\deependra yadav/config/yadh7327_uuid_and_cookie.json: COOKIE True - UUIDs True - TIMING, DEVICE and ...\n",
      "- user-agent=Instagram 117.0.0.28.123 Android (28/9.0; 420dpi; 1080x1920; OnePlus; ONEPLUS A3003; OnePlus3; qcom; en_US; 180322800)\n",
      "- phone_id=8087c54c-3f14-4c08-9bb2-236a1a8509c3\n",
      "- uuid=5680a458-dea0-4a87-8085-4bf4e6a66caf\n",
      "- client_session_id=ed59fe48-483a-4a0a-a425-4421c8ea63ab\n",
      "- device_id=android-b57fa5b598dc3f05\n",
      "2020-09-02 16:25:02,801 - INFO - LOGIN FLOW! Just logged-in: False\n",
      "2020-09-02 16:25:09,436 - INFO - Logged-in successfully as 'yadh7327'!\n"
     ]
    },
    {
     "name": "stdout",
     "output_type": "stream",
     "text": [
      "\u001b[32m\n",
      "`bot.following` is empty, will download.\u001b[0m\n"
     ]
    },
    {
     "name": "stderr",
     "output_type": "stream",
     "text": [
      "Getting followings of 36887921046: 100%|███████████████████████████████████████████████| 11/11 [00:05<00:00,  2.06it/s]\n"
     ]
    },
    {
     "name": "stdout",
     "output_type": "stream",
     "text": [
      "\u001b[32m\n",
      "`bot.followers` is empty, will download.\u001b[0m\n"
     ]
    },
    {
     "name": "stderr",
     "output_type": "stream",
     "text": [
      "Getting followers of 36887921046: 100%|██████████████████████████████████████████████████| 1/1 [00:02<00:00,  2.24s/it]\n",
      "2020-09-02 16:25:22,340 - INFO - Going to unfollow `user_id` 27623623828 with username seema_thaakur.\n",
      "2020-09-02 16:25:27,203 - INFO - Unfollowed `user_id` 27623623828 with username seema_thaakur\n"
     ]
    },
    {
     "name": "stdout",
     "output_type": "stream",
     "text": [
      "\u001b[;1m\u001b[32mAdding '27623623828' to `C:\\Users\\deependra yadav/config/unfollowed.txt`.\u001b[0m\u001b[0m\n"
     ]
    },
    {
     "name": "stderr",
     "output_type": "stream",
     "text": [
      "2020-09-02 16:25:40,149 - INFO - Going to unfollow `user_id` 3571902267 with username neechesetopper.\n"
     ]
    }
   ],
   "source": [
    "from instabot import Bot\n",
    "from time import sleep\n",
    "from random import randint\n",
    "\n",
    "\n",
    "\n",
    "bot=Bot()\n",
    "\n",
    "bot.login(username=\"yadh7327\",password=\"pass#789\")\n",
    "\n",
    "non_followers=set(bot.following)-set(bot.followers)\n",
    "\n",
    "for non_follower in non_followers:\n",
    "    try:\n",
    "      bot.unfollow(non_follower)\n",
    "      sleep(randint(6,12))\n",
    "    except Exception as e:\n",
    "      print(e)\n",
    "      sleep(randint(30,50))"
   ]
  },
  {
   "cell_type": "code",
   "execution_count": null,
   "metadata": {},
   "outputs": [],
   "source": []
  },
  {
   "cell_type": "code",
   "execution_count": null,
   "metadata": {},
   "outputs": [],
   "source": []
  },
  {
   "cell_type": "code",
   "execution_count": null,
   "metadata": {},
   "outputs": [],
   "source": []
  },
  {
   "cell_type": "code",
   "execution_count": null,
   "metadata": {},
   "outputs": [],
   "source": []
  },
  {
   "cell_type": "code",
   "execution_count": null,
   "metadata": {},
   "outputs": [],
   "source": []
  },
  {
   "cell_type": "code",
   "execution_count": null,
   "metadata": {},
   "outputs": [],
   "source": []
  },
  {
   "cell_type": "code",
   "execution_count": null,
   "metadata": {},
   "outputs": [],
   "source": []
  },
  {
   "cell_type": "code",
   "execution_count": null,
   "metadata": {},
   "outputs": [],
   "source": []
  },
  {
   "cell_type": "code",
   "execution_count": null,
   "metadata": {},
   "outputs": [],
   "source": []
  },
  {
   "cell_type": "code",
   "execution_count": null,
   "metadata": {},
   "outputs": [
    {
     "name": "stderr",
     "output_type": "stream",
     "text": [
      "2020-09-02 16:46:54,785 - INFO - Instabot version: 0.117.0 Started\n",
      "2020-09-02 16:46:54,805 - INFO - Recovery from C:\\Users\\deependra yadav/config/yadh7327_uuid_and_cookie.json: COOKIE True - UUIDs True - TIMING, DEVICE and ...\n",
      "- user-agent=Instagram 117.0.0.28.123 Android (28/9.0; 420dpi; 1080x1920; OnePlus; ONEPLUS A3003; OnePlus3; qcom; en_US; 180322800)\n",
      "- phone_id=8087c54c-3f14-4c08-9bb2-236a1a8509c3\n",
      "- uuid=5680a458-dea0-4a87-8085-4bf4e6a66caf\n",
      "- client_session_id=ed59fe48-483a-4a0a-a425-4421c8ea63ab\n",
      "- device_id=android-b57fa5b598dc3f05\n",
      "2020-09-02 16:46:54,805 - INFO - LOGIN FLOW! Just logged-in: False\n",
      "2020-09-02 16:47:08,794 - INFO - Logged-in successfully as 'yadh7327'!\n"
     ]
    },
    {
     "name": "stdout",
     "output_type": "stream",
     "text": [
      "\u001b[32m\n",
      "`bot.following` is empty, will download.\u001b[0m\n"
     ]
    },
    {
     "name": "stderr",
     "output_type": "stream",
     "text": [
      "Getting followings of 36887921046: 100%|█████████████████████████████████████████████████| 8/8 [00:00<00:00,  8.90it/s]\n"
     ]
    },
    {
     "name": "stdout",
     "output_type": "stream",
     "text": [
      "\u001b[32m\n",
      "`bot.followers` is empty, will download.\u001b[0m\n"
     ]
    },
    {
     "name": "stderr",
     "output_type": "stream",
     "text": [
      "Getting followers of 36887921046: 100%|██████████████████████████████████████████████████| 1/1 [00:00<00:00,  1.40it/s]\n",
      "2020-09-02 16:47:13,106 - INFO - Going to unfollow `user_id` 3147767372 with username faseankilla.\n",
      "2020-09-02 16:47:16,133 - ERROR - Request returns 400 error!\n",
      "2020-09-02 16:47:16,137 - ERROR - ATTENTION!: `feedback_required`b'We restrict certain activity to protect our community. Tell us if you think we made a mistake.'\n",
      "2020-09-02 16:47:16,145 - ERROR - `Unfollow` action has been BLOCKED...!!!\n",
      "2020-09-02 16:47:16,150 - INFO - `Unfollow` action is going to sleep                         for 849 seconds.\n"
     ]
    }
   ],
   "source": [
    "from instabot import Bot\n",
    "from time import sleep\n",
    "from random import randint\n",
    "\n",
    "\n",
    "\n",
    "bot=Bot()\n",
    "\n",
    "bot.login(username=\"yadh7327\",password=\"pass#789\")\n",
    "\n",
    "non_followers=set(bot.following)-set(bot.followers)\n",
    "\n",
    "for non_follower in non_followers:\n",
    "    try:\n",
    "      bot.unfollow(non_follower)\n",
    "      sleep(randint(6,12))\n",
    "    except Exception as e:\n",
    "      print(e)\n",
    "      sleep(randint(30,300))"
   ]
  },
  {
   "cell_type": "code",
   "execution_count": null,
   "metadata": {},
   "outputs": [],
   "source": []
  },
  {
   "cell_type": "code",
   "execution_count": null,
   "metadata": {},
   "outputs": [],
   "source": []
  },
  {
   "cell_type": "code",
   "execution_count": null,
   "metadata": {},
   "outputs": [],
   "source": []
  },
  {
   "cell_type": "code",
   "execution_count": null,
   "metadata": {},
   "outputs": [],
   "source": []
  },
  {
   "cell_type": "code",
   "execution_count": null,
   "metadata": {},
   "outputs": [],
   "source": []
  },
  {
   "cell_type": "code",
   "execution_count": null,
   "metadata": {},
   "outputs": [],
   "source": []
  },
  {
   "cell_type": "code",
   "execution_count": null,
   "metadata": {},
   "outputs": [],
   "source": []
  },
  {
   "cell_type": "code",
   "execution_count": null,
   "metadata": {},
   "outputs": [],
   "source": []
  },
  {
   "cell_type": "code",
   "execution_count": null,
   "metadata": {},
   "outputs": [],
   "source": []
  },
  {
   "cell_type": "code",
   "execution_count": null,
   "metadata": {},
   "outputs": [],
   "source": []
  },
  {
   "cell_type": "code",
   "execution_count": null,
   "metadata": {},
   "outputs": [],
   "source": []
  },
  {
   "cell_type": "code",
   "execution_count": null,
   "metadata": {},
   "outputs": [],
   "source": []
  },
  {
   "cell_type": "code",
   "execution_count": 1,
   "metadata": {},
   "outputs": [
    {
     "name": "stderr",
     "output_type": "stream",
     "text": [
      "2020-09-02 20:13:30,787 - INFO - Instabot version: 0.117.0 Started\n",
      "2020-09-02 20:13:30,796 - INFO - Recovery from C:\\Users\\deependra yadav/config/yadh7327_uuid_and_cookie.json: COOKIE True - UUIDs True - TIMING, DEVICE and ...\n",
      "- user-agent=Instagram 117.0.0.28.123 Android (28/9.0; 420dpi; 1080x1920; OnePlus; ONEPLUS A3003; OnePlus3; qcom; en_US; 180322800)\n",
      "- phone_id=8087c54c-3f14-4c08-9bb2-236a1a8509c3\n",
      "- uuid=5680a458-dea0-4a87-8085-4bf4e6a66caf\n",
      "- client_session_id=088ea41a-4df1-49df-9797-98750f7d9fa7\n",
      "- device_id=android-b57fa5b598dc3f05\n",
      "2020-09-02 20:13:30,798 - INFO - LOGIN FLOW! Just logged-in: False\n",
      "2020-09-02 20:13:30,896 - WARNING - HTTPSConnectionPool(host='i.instagram.com', port=443): Max retries exceeded with url: /api/v1/feed/timeline/ (Caused by NewConnectionError('<urllib3.connection.HTTPSConnection object at 0x000002807FA8F048>: Failed to establish a new connection: [Errno 11001] getaddrinfo failed',))\n",
      "2020-09-02 20:13:30,900 - WARNING - HTTPSConnectionPool(host='i.instagram.com', port=443): Max retries exceeded with url: /api/v1/feed/reels_tray/ (Caused by NewConnectionError('<urllib3.connection.HTTPSConnection object at 0x000002807FA8F080>: Failed to establish a new connection: [Errno 11001] getaddrinfo failed',))\n",
      "2020-09-02 20:13:30,903 - WARNING - HTTPSConnectionPool(host='i.instagram.com', port=443): Max retries exceeded with url: /api/v1/direct_v2/ranked_recipients/ (Caused by NewConnectionError('<urllib3.connection.HTTPSConnection object at 0x000002807FA8F2E8>: Failed to establish a new connection: [Errno 11001] getaddrinfo failed',))\n",
      "2020-09-02 20:13:30,907 - WARNING - HTTPSConnectionPool(host='i.instagram.com', port=443): Max retries exceeded with url: /api/v1/direct_v2/ranked_recipients/ (Caused by NewConnectionError('<urllib3.connection.HTTPSConnection object at 0x000002807FA8F358>: Failed to establish a new connection: [Errno 11001] getaddrinfo failed',))\n",
      "2020-09-02 20:13:30,911 - WARNING - HTTPSConnectionPool(host='i.instagram.com', port=443): Max retries exceeded with url: /api/v1/direct_v2/inbox/ (Caused by NewConnectionError('<urllib3.connection.HTTPSConnection object at 0x000002807FA8FD30>: Failed to establish a new connection: [Errno 11001] getaddrinfo failed',))\n",
      "2020-09-02 20:13:30,918 - WARNING - HTTPSConnectionPool(host='i.instagram.com', port=443): Max retries exceeded with url: /api/v1/direct_v2/get_presence/ (Caused by NewConnectionError('<urllib3.connection.HTTPSConnection object at 0x000002807FA8F438>: Failed to establish a new connection: [Errno 11001] getaddrinfo failed',))\n",
      "2020-09-02 20:13:30,922 - WARNING - HTTPSConnectionPool(host='i.instagram.com', port=443): Max retries exceeded with url: /api/v1/news/inbox/?limited_activity=true&show_su=true (Caused by NewConnectionError('<urllib3.connection.HTTPSConnection object at 0x000002807FA8FEB8>: Failed to establish a new connection: [Errno 11001] getaddrinfo failed',))\n",
      "2020-09-02 20:13:30,926 - WARNING - HTTPSConnectionPool(host='i.instagram.com', port=443): Max retries exceeded with url: /api/v1/users/profile_notice/ (Caused by NewConnectionError('<urllib3.connection.HTTPSConnection object at 0x000002807FA8F0B8>: Failed to establish a new connection: [Errno 11001] getaddrinfo failed',))\n",
      "2020-09-02 20:13:30,931 - WARNING - HTTPSConnectionPool(host='i.instagram.com', port=443): Max retries exceeded with url: /api/v1/discover/explore/ (Caused by NewConnectionError('<urllib3.connection.HTTPSConnection object at 0x000002807FA8F320>: Failed to establish a new connection: [Errno 11001] getaddrinfo failed',))\n",
      "2020-09-02 20:13:30,933 - INFO - Login flow failed, the cookie is broken. Relogin again.\n",
      "2020-09-02 20:13:30,941 - INFO - Recovery from C:\\Users\\deependra yadav/config/yadh7327_uuid_and_cookie.json: COOKIE True - UUIDs True - TIMING, DEVICE and ...\n",
      "- user-agent=Instagram 117.0.0.28.123 Android (28/9.0; 420dpi; 1080x1920; OnePlus; ONEPLUS A3003; OnePlus3; qcom; en_US; 180322800)\n",
      "- phone_id=8087c54c-3f14-4c08-9bb2-236a1a8509c3\n",
      "- uuid=5680a458-dea0-4a87-8085-4bf4e6a66caf\n",
      "- client_session_id=f70e53f8-6892-4076-b7ce-cebd9ba39de3\n",
      "- device_id=android-b57fa5b598dc3f05\n",
      "2020-09-02 20:13:30,943 - INFO - Not yet logged in starting: PRE-LOGIN FLOW!\n",
      "2020-09-02 20:13:30,948 - WARNING - HTTPSConnectionPool(host='i.instagram.com', port=443): Max retries exceeded with url: /api/v1/accounts/get_prefill_candidates/ (Caused by NewConnectionError('<urllib3.connection.HTTPSConnection object at 0x000002807FAAC1D0>: Failed to establish a new connection: [Errno 11001] getaddrinfo failed',))\n",
      "2020-09-02 20:13:30,953 - WARNING - HTTPSConnectionPool(host='i.instagram.com', port=443): Max retries exceeded with url: /api/v1/qe/sync/ (Caused by NewConnectionError('<urllib3.connection.HTTPSConnection object at 0x000002807FA8FD68>: Failed to establish a new connection: [Errno 11001] getaddrinfo failed',))\n",
      "2020-09-02 20:13:30,959 - WARNING - HTTPSConnectionPool(host='i.instagram.com', port=443): Max retries exceeded with url: /api/v1/launcher/sync/ (Caused by NewConnectionError('<urllib3.connection.HTTPSConnection object at 0x000002807FA81320>: Failed to establish a new connection: [Errno 11001] getaddrinfo failed',))\n",
      "2020-09-02 20:13:30,965 - WARNING - HTTPSConnectionPool(host='i.instagram.com', port=443): Max retries exceeded with url: /api/v1/accounts/contact_point_prefill/ (Caused by NewConnectionError('<urllib3.connection.HTTPSConnection object at 0x000002807FA81390>: Failed to establish a new connection: [Errno 11001] getaddrinfo failed',))\n",
      "2020-09-02 20:13:30,969 - WARNING - HTTPSConnectionPool(host='i.instagram.com', port=443): Max retries exceeded with url: /api/v1/accounts/login/ (Caused by NewConnectionError('<urllib3.connection.HTTPSConnection object at 0x000002807FA8F358>: Failed to establish a new connection: [Errno 11001] getaddrinfo failed',))\n"
     ]
    },
    {
     "ename": "AttributeError",
     "evalue": "'NoneType' object has no attribute 'get'",
     "output_type": "error",
     "traceback": [
      "\u001b[1;31m---------------------------------------------------------------------------\u001b[0m",
      "\u001b[1;31mAttributeError\u001b[0m                            Traceback (most recent call last)",
      "\u001b[1;32m<ipython-input-1-0469250ef2ba>\u001b[0m in \u001b[0;36m<module>\u001b[1;34m\u001b[0m\n\u001b[0;32m      7\u001b[0m \u001b[0mbot\u001b[0m\u001b[1;33m=\u001b[0m\u001b[0mBot\u001b[0m\u001b[1;33m(\u001b[0m\u001b[1;33m)\u001b[0m\u001b[1;33m\u001b[0m\u001b[0m\n\u001b[0;32m      8\u001b[0m \u001b[1;33m\u001b[0m\u001b[0m\n\u001b[1;32m----> 9\u001b[1;33m \u001b[0mbot\u001b[0m\u001b[1;33m.\u001b[0m\u001b[0mlogin\u001b[0m\u001b[1;33m(\u001b[0m\u001b[0musername\u001b[0m\u001b[1;33m=\u001b[0m\u001b[1;34m\"yadh7327\"\u001b[0m\u001b[1;33m,\u001b[0m\u001b[0mpassword\u001b[0m\u001b[1;33m=\u001b[0m\u001b[1;34m\"pass#789\"\u001b[0m\u001b[1;33m)\u001b[0m\u001b[1;33m\u001b[0m\u001b[0m\n\u001b[0m\u001b[0;32m     10\u001b[0m \u001b[1;33m\u001b[0m\u001b[0m\n\u001b[0;32m     11\u001b[0m \u001b[0mnon_followers\u001b[0m\u001b[1;33m=\u001b[0m\u001b[0mset\u001b[0m\u001b[1;33m(\u001b[0m\u001b[0mbot\u001b[0m\u001b[1;33m.\u001b[0m\u001b[0mfollowing\u001b[0m\u001b[1;33m)\u001b[0m\u001b[1;33m-\u001b[0m\u001b[0mset\u001b[0m\u001b[1;33m(\u001b[0m\u001b[0mbot\u001b[0m\u001b[1;33m.\u001b[0m\u001b[0mfollowers\u001b[0m\u001b[1;33m)\u001b[0m\u001b[1;33m\u001b[0m\u001b[0m\n",
      "\u001b[1;32mc:\\users\\deependra yadav\\appdata\\local\\programs\\python\\python36\\lib\\site-packages\\instabot\\bot\\bot.py\u001b[0m in \u001b[0;36mlogin\u001b[1;34m(self, **args)\u001b[0m\n\u001b[0;32m    441\u001b[0m         \u001b[1;32mif\u001b[0m \u001b[0mself\u001b[0m\u001b[1;33m.\u001b[0m\u001b[0mproxy\u001b[0m\u001b[1;33m:\u001b[0m\u001b[1;33m\u001b[0m\u001b[0m\n\u001b[0;32m    442\u001b[0m             \u001b[0margs\u001b[0m\u001b[1;33m[\u001b[0m\u001b[1;34m\"proxy\"\u001b[0m\u001b[1;33m]\u001b[0m \u001b[1;33m=\u001b[0m \u001b[0mself\u001b[0m\u001b[1;33m.\u001b[0m\u001b[0mproxy\u001b[0m\u001b[1;33m\u001b[0m\u001b[0m\n\u001b[1;32m--> 443\u001b[1;33m         \u001b[1;32mif\u001b[0m \u001b[0mself\u001b[0m\u001b[1;33m.\u001b[0m\u001b[0mapi\u001b[0m\u001b[1;33m.\u001b[0m\u001b[0mlogin\u001b[0m\u001b[1;33m(\u001b[0m\u001b[1;33m**\u001b[0m\u001b[0margs\u001b[0m\u001b[1;33m)\u001b[0m \u001b[1;32mis\u001b[0m \u001b[1;32mFalse\u001b[0m\u001b[1;33m:\u001b[0m\u001b[1;33m\u001b[0m\u001b[0m\n\u001b[0m\u001b[0;32m    444\u001b[0m             \u001b[1;32mreturn\u001b[0m \u001b[1;32mFalse\u001b[0m\u001b[1;33m\u001b[0m\u001b[0m\n\u001b[0;32m    445\u001b[0m         \u001b[0mself\u001b[0m\u001b[1;33m.\u001b[0m\u001b[0mprepare\u001b[0m\u001b[1;33m(\u001b[0m\u001b[1;33m)\u001b[0m\u001b[1;33m\u001b[0m\u001b[0m\n",
      "\u001b[1;32mc:\\users\\deependra yadav\\appdata\\local\\programs\\python\\python36\\lib\\site-packages\\instabot\\api\\api.py\u001b[0m in \u001b[0;36mlogin\u001b[1;34m(self, username, password, force, proxy, use_cookie, use_uuid, cookie_fname, ask_for_code, set_device, generate_all_uuids, is_threaded)\u001b[0m\n\u001b[0;32m    287\u001b[0m \u001b[1;33m\u001b[0m\u001b[0m\n\u001b[0;32m    288\u001b[0m             elif (\n\u001b[1;32m--> 289\u001b[1;33m                 \u001b[0mself\u001b[0m\u001b[1;33m.\u001b[0m\u001b[0mlast_json\u001b[0m\u001b[1;33m.\u001b[0m\u001b[0mget\u001b[0m\u001b[1;33m(\u001b[0m\u001b[1;34m\"error_type\"\u001b[0m\u001b[1;33m,\u001b[0m \u001b[1;34m\"\"\u001b[0m\u001b[1;33m)\u001b[0m \u001b[1;33m==\u001b[0m \u001b[1;34m\"checkpoint_challenge_required\"\u001b[0m\u001b[1;33m\u001b[0m\u001b[0m\n\u001b[0m\u001b[0;32m    290\u001b[0m             ):\n\u001b[0;32m    291\u001b[0m                 \u001b[1;31m# self.logger.info(\"Checkpoint challenge required...\")\u001b[0m\u001b[1;33m\u001b[0m\u001b[1;33m\u001b[0m\u001b[0m\n",
      "\u001b[1;31mAttributeError\u001b[0m: 'NoneType' object has no attribute 'get'"
     ]
    }
   ],
   "source": [
    "from instabot import Bot\n",
    "from time import sleep\n",
    "from random import randint\n",
    "\n",
    "\n",
    "\n",
    "bot=Bot()\n",
    "\n",
    "bot.login(username=\"yadh7327\",password=\"pass#789\")\n",
    "\n",
    "non_followers=set(bot.following)-set(bot.followers)\n",
    "\n",
    "for non_follower in non_followers:\n",
    "    try:\n",
    "      bot.unfollow(non_follower)\n",
    "      sleep(randint(6,12))\n",
    "    except Exception as e:\n",
    "      print(e)\n",
    "      sleep(randint(30,300))"
   ]
  },
  {
   "cell_type": "code",
   "execution_count": null,
   "metadata": {},
   "outputs": [],
   "source": []
  },
  {
   "cell_type": "code",
   "execution_count": null,
   "metadata": {},
   "outputs": [
    {
     "name": "stderr",
     "output_type": "stream",
     "text": [
      "2020-09-02 20:15:47,392 - INFO - Instabot version: 0.117.0 Started\n",
      "2020-09-02 20:15:47,392 - INFO - Instabot version: 0.117.0 Started\n",
      "2020-09-02 20:15:47,392 - INFO - Instabot version: 0.117.0 Started\n",
      "2020-09-02 20:15:47,403 - INFO - Recovery from C:\\Users\\deependra yadav/config/yadh7327_uuid_and_cookie.json: COOKIE True - UUIDs True - TIMING, DEVICE and ...\n",
      "- user-agent=Instagram 117.0.0.28.123 Android (28/9.0; 420dpi; 1080x1920; OnePlus; ONEPLUS A3003; OnePlus3; qcom; en_US; 180322800)\n",
      "- phone_id=8087c54c-3f14-4c08-9bb2-236a1a8509c3\n",
      "- uuid=5680a458-dea0-4a87-8085-4bf4e6a66caf\n",
      "- client_session_id=f70e53f8-6892-4076-b7ce-cebd9ba39de3\n",
      "- device_id=android-b57fa5b598dc3f05\n",
      "2020-09-02 20:15:47,403 - INFO - Recovery from C:\\Users\\deependra yadav/config/yadh7327_uuid_and_cookie.json: COOKIE True - UUIDs True - TIMING, DEVICE and ...\n",
      "- user-agent=Instagram 117.0.0.28.123 Android (28/9.0; 420dpi; 1080x1920; OnePlus; ONEPLUS A3003; OnePlus3; qcom; en_US; 180322800)\n",
      "- phone_id=8087c54c-3f14-4c08-9bb2-236a1a8509c3\n",
      "- uuid=5680a458-dea0-4a87-8085-4bf4e6a66caf\n",
      "- client_session_id=f70e53f8-6892-4076-b7ce-cebd9ba39de3\n",
      "- device_id=android-b57fa5b598dc3f05\n",
      "2020-09-02 20:15:47,403 - INFO - Recovery from C:\\Users\\deependra yadav/config/yadh7327_uuid_and_cookie.json: COOKIE True - UUIDs True - TIMING, DEVICE and ...\n",
      "- user-agent=Instagram 117.0.0.28.123 Android (28/9.0; 420dpi; 1080x1920; OnePlus; ONEPLUS A3003; OnePlus3; qcom; en_US; 180322800)\n",
      "- phone_id=8087c54c-3f14-4c08-9bb2-236a1a8509c3\n",
      "- uuid=5680a458-dea0-4a87-8085-4bf4e6a66caf\n",
      "- client_session_id=f70e53f8-6892-4076-b7ce-cebd9ba39de3\n",
      "- device_id=android-b57fa5b598dc3f05\n",
      "2020-09-02 20:15:47,409 - INFO - LOGIN FLOW! Just logged-in: False\n",
      "2020-09-02 20:15:47,409 - INFO - LOGIN FLOW! Just logged-in: False\n",
      "2020-09-02 20:15:47,409 - INFO - LOGIN FLOW! Just logged-in: False\n",
      "2020-09-02 20:15:51,629 - INFO - Logged-in successfully as 'yadh7327'!\n",
      "2020-09-02 20:15:51,629 - INFO - Logged-in successfully as 'yadh7327'!\n",
      "2020-09-02 20:15:51,629 - INFO - Logged-in successfully as 'yadh7327'!\n"
     ]
    },
    {
     "name": "stdout",
     "output_type": "stream",
     "text": [
      "\u001b[32m\n",
      "`bot.following` is empty, will download.\u001b[0m\n"
     ]
    }
   ],
   "source": [
    "\n",
    "from instabot import Bot\n",
    "from time import sleep\n",
    "from random import randint\n",
    "\n",
    "\n",
    "\n",
    "bot=Bot()\n",
    "\n",
    "bot.login(username=\"yadh7327\",password=\"Deep@1234\")\n",
    "\n",
    "non_followers=set(bot.following)-set(bot.followers)\n",
    "\n",
    "for non_follower in non_followers:\n",
    "    try:\n",
    "      bot.unfollow(non_follower)\n",
    "      sleep(randint(6,12))\n",
    "    except Exception as e:\n",
    "      print(e)\n",
    "      sleep(randint(30,300))"
   ]
  },
  {
   "cell_type": "code",
   "execution_count": null,
   "metadata": {},
   "outputs": [],
   "source": []
  },
  {
   "cell_type": "code",
   "execution_count": null,
   "metadata": {},
   "outputs": [],
   "source": []
  },
  {
   "cell_type": "code",
   "execution_count": null,
   "metadata": {},
   "outputs": [],
   "source": []
  },
  {
   "cell_type": "code",
   "execution_count": null,
   "metadata": {},
   "outputs": [],
   "source": []
  },
  {
   "cell_type": "code",
   "execution_count": null,
   "metadata": {},
   "outputs": [],
   "source": []
  },
  {
   "cell_type": "code",
   "execution_count": null,
   "metadata": {},
   "outputs": [],
   "source": []
  },
  {
   "cell_type": "code",
   "execution_count": null,
   "metadata": {},
   "outputs": [],
   "source": []
  },
  {
   "cell_type": "code",
   "execution_count": null,
   "metadata": {},
   "outputs": [],
   "source": []
  },
  {
   "cell_type": "code",
   "execution_count": null,
   "metadata": {},
   "outputs": [],
   "source": []
  },
  {
   "cell_type": "code",
   "execution_count": null,
   "metadata": {},
   "outputs": [],
   "source": []
  },
  {
   "cell_type": "code",
   "execution_count": null,
   "metadata": {},
   "outputs": [],
   "source": []
  },
  {
   "cell_type": "code",
   "execution_count": null,
   "metadata": {},
   "outputs": [],
   "source": []
  },
  {
   "cell_type": "code",
   "execution_count": null,
   "metadata": {},
   "outputs": [],
   "source": []
  },
  {
   "cell_type": "code",
   "execution_count": 1,
   "metadata": {},
   "outputs": [
    {
     "name": "stderr",
     "output_type": "stream",
     "text": [
      "2020-09-02 20:16:00,791 - INFO - Instabot version: 0.117.0 Started\n",
      "2020-09-02 20:16:00,809 - INFO - Recovery from C:\\Users\\deependra yadav/config/yadh7327_uuid_and_cookie.json: COOKIE True - UUIDs True - TIMING, DEVICE and ...\n",
      "- user-agent=Instagram 117.0.0.28.123 Android (28/9.0; 420dpi; 1080x1920; OnePlus; ONEPLUS A3003; OnePlus3; qcom; en_US; 180322800)\n",
      "- phone_id=8087c54c-3f14-4c08-9bb2-236a1a8509c3\n",
      "- uuid=5680a458-dea0-4a87-8085-4bf4e6a66caf\n",
      "- client_session_id=f70e53f8-6892-4076-b7ce-cebd9ba39de3\n",
      "- device_id=android-b57fa5b598dc3f05\n",
      "2020-09-02 20:16:00,813 - INFO - LOGIN FLOW! Just logged-in: False\n",
      "2020-09-02 20:16:04,942 - INFO - Logged-in successfully as 'yadh7327'!\n"
     ]
    },
    {
     "name": "stdout",
     "output_type": "stream",
     "text": [
      "\u001b[32m\n",
      "`bot.following` is empty, will download.\u001b[0m\n"
     ]
    },
    {
     "name": "stderr",
     "output_type": "stream",
     "text": [
      "Getting followings of 36887921046: 100%|█████████████████████████████████████████████████| 9/9 [00:00<00:00, 11.20it/s]\n"
     ]
    },
    {
     "name": "stdout",
     "output_type": "stream",
     "text": [
      "\u001b[32m\n",
      "`bot.followers` is empty, will download.\u001b[0m\n"
     ]
    },
    {
     "name": "stderr",
     "output_type": "stream",
     "text": [
      "Getting followers of 36887921046: 100%|██████████████████████████████████████████████████| 1/1 [00:01<00:00,  1.03s/it]\n",
      "2020-09-02 20:16:10,052 - INFO - Going to unfollow `user_id` 3147767372 with username faseankilla.\n",
      "2020-09-02 20:16:11,922 - ERROR - Request returns 400 error!\n",
      "2020-09-02 20:16:11,925 - ERROR - ATTENTION!: `feedback_required`b'We restrict certain activity to protect our community. Tell us if you think we made a mistake.'\n",
      "2020-09-02 20:16:11,928 - ERROR - `Unfollow` action has been BLOCKED...!!!\n",
      "2020-09-02 20:16:11,931 - INFO - `Unfollow` action is going to sleep                         for 887 seconds.\n",
      "2020-09-02 20:31:11,089 - INFO - Going to unfollow `user_id` 2038367434 with username applepie404.\n",
      "2020-09-02 20:31:14,610 - ERROR - Request returns 400 error!\n",
      "2020-09-02 20:31:14,611 - ERROR - ATTENTION!: `feedback_required`b'We restrict certain activity to protect our community. Tell us if you think we made a mistake.'\n",
      "2020-09-02 20:31:14,614 - ERROR - `Unfollow` action has been BLOCKED...!!!\n",
      "2020-09-02 20:31:14,616 - WARNING - This is the second blocked                         `Unfollow` action.\n",
      "2020-09-02 20:31:14,619 - WARNING - Activating blocked actions                         protection for `Unfollow` action.\n",
      "2020-09-02 20:31:22,187 - INFO - Going to unfollow `user_id` 11894726823 with username chakras_healing.\n",
      "2020-09-02 20:31:23,696 - WARNING - YOUR `UNFOLLOW` ACTION IS BLOCKED\n",
      "2020-09-02 20:31:23,697 - WARNING - blocked_actions_protection ACTIVE. Skipping `unfollow` action.\n",
      "2020-09-02 20:31:32,211 - INFO - Going to unfollow `user_id` 27623623828 with username seema_thaakur.\n",
      "2020-09-02 20:31:35,811 - WARNING - YOUR `UNFOLLOW` ACTION IS BLOCKED\n",
      "2020-09-02 20:31:35,813 - WARNING - blocked_actions_protection ACTIVE. Skipping `unfollow` action.\n",
      "2020-09-02 20:31:45,116 - INFO - Going to unfollow `user_id` 2025100844 with username adrianellison.\n",
      "2020-09-02 20:31:46,521 - WARNING - YOUR `UNFOLLOW` ACTION IS BLOCKED\n",
      "2020-09-02 20:31:46,522 - WARNING - blocked_actions_protection ACTIVE. Skipping `unfollow` action.\n",
      "2020-09-02 20:31:53,990 - INFO - Going to unfollow `user_id` 497105273 with username aryamannseth.\n",
      "2020-09-02 20:31:56,915 - WARNING - YOUR `UNFOLLOW` ACTION IS BLOCKED\n",
      "2020-09-02 20:31:56,916 - WARNING - blocked_actions_protection ACTIVE. Skipping `unfollow` action.\n",
      "2020-09-02 20:32:09,985 - INFO - Going to unfollow `user_id` 8086917764 with username selfcare4yu.\n",
      "2020-09-02 20:32:12,572 - WARNING - YOUR `UNFOLLOW` ACTION IS BLOCKED\n",
      "2020-09-02 20:32:12,574 - WARNING - blocked_actions_protection ACTIVE. Skipping `unfollow` action.\n",
      "2020-09-02 20:32:20,217 - INFO - Going to unfollow `user_id` 3571902267 with username neechesetopper.\n",
      "2020-09-02 20:32:22,952 - WARNING - YOUR `UNFOLLOW` ACTION IS BLOCKED\n",
      "2020-09-02 20:32:22,953 - WARNING - blocked_actions_protection ACTIVE. Skipping `unfollow` action.\n"
     ]
    }
   ],
   "source": [
    "\n",
    "from instabot import Bot\n",
    "from time import sleep\n",
    "from random import randint\n",
    "\n",
    "\n",
    "\n",
    "bot=Bot()\n",
    "\n",
    "bot.login(username=\"yadh7327\",password=\"Deep@1234\")\n",
    "\n",
    "non_followers=set(bot.following)-set(bot.followers)\n",
    "\n",
    "for non_follower in non_followers:\n",
    "    try:\n",
    "      bot.unfollow(non_follower)\n",
    "      sleep(randint(6,12))\n",
    "    except Exception as e:\n",
    "      print(e)\n",
    "      sleep(randint(30,300))"
   ]
  },
  {
   "cell_type": "code",
   "execution_count": null,
   "metadata": {},
   "outputs": [],
   "source": []
  }
 ],
 "metadata": {
  "kernelspec": {
   "display_name": "Python 3",
   "language": "python",
   "name": "python3"
  },
  "language_info": {
   "codemirror_mode": {
    "name": "ipython",
    "version": 3
   },
   "file_extension": ".py",
   "mimetype": "text/x-python",
   "name": "python",
   "nbconvert_exporter": "python",
   "pygments_lexer": "ipython3",
   "version": "3.6.5"
  }
 },
 "nbformat": 4,
 "nbformat_minor": 4
}
